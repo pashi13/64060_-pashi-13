{
  "nbformat": 4,
  "nbformat_minor": 0,
  "metadata": {
    "colab": {
      "provenance": []
    },
    "kernelspec": {
      "name": "python3",
      "display_name": "Python 3"
    },
    "language_info": {
      "name": "python"
    }
  },
  "cells": [
    {
      "cell_type": "markdown",
      "source": [
        "# Load the Data:"
      ],
      "metadata": {
        "id": "DD3JwzO2O_OA"
      }
    },
    {
      "cell_type": "code",
      "execution_count": 1,
      "metadata": {
        "id": "w4P21_4AK6px"
      },
      "outputs": [],
      "source": [
        "import pandas as pd\n",
        "\n",
        "# Load the dataset\n",
        "data = pd.read_csv(\"UniversalBank.csv\")"
      ]
    },
    {
      "cell_type": "markdown",
      "source": [
        "## Data Preprocessing:"
      ],
      "metadata": {
        "id": "yRE54DJ1PID9"
      }
    },
    {
      "cell_type": "code",
      "source": [
        "from sklearn.model_selection import train_test_split\n",
        "\n",
        "# Drop unnecessary columns\n",
        "data = data.drop(['ID', 'ZIP Code'], axis=1)\n",
        "\n",
        "# Create dummy variables for categorical predictors\n",
        "data = pd.get_dummies(data, columns=['Education'])\n",
        "\n",
        "# Define predictors and target variable\n",
        "X = data.drop('Personal Loan', axis=1)\n",
        "y = data['Personal Loan']\n",
        "\n",
        "# Partition the data\n",
        "X_train, X_valid, y_train, y_valid = train_test_split(X, y, test_size=0.4, random_state=42)"
      ],
      "metadata": {
        "id": "vX95UWkCPD2p"
      },
      "execution_count": 2,
      "outputs": []
    },
    {
      "cell_type": "markdown",
      "source": [
        "## K-NN Classification:"
      ],
      "metadata": {
        "id": "k0MJXLNMPQGi"
      }
    },
    {
      "cell_type": "code",
      "source": [
        "from sklearn.neighbors import KNeighborsClassifier\n",
        "from sklearn.metrics import confusion_matrix\n",
        "\n",
        "# Fit k-NN model\n",
        "knn_model = KNeighborsClassifier(n_neighbors=1)\n",
        "knn_model.fit(X_train, y_train)\n",
        "\n",
        "# Customer data\n",
        "customer_data = [[40, 10, 84, 2, 2, 0, 1, 0, 0, 0, 0, 1, 1]]\n",
        "\n",
        "# Predict\n",
        "prediction = knn_model.predict(customer_data)\n",
        "print(\"Prediction:\", prediction)"
      ],
      "metadata": {
        "colab": {
          "base_uri": "https://localhost:8080/"
        },
        "id": "NyM1Wu-JPMxu",
        "outputId": "3eb562f4-e7f1-4244-e43d-c717e1e95685"
      },
      "execution_count": 3,
      "outputs": [
        {
          "output_type": "stream",
          "name": "stdout",
          "text": [
            "Prediction: [0]\n"
          ]
        },
        {
          "output_type": "stream",
          "name": "stderr",
          "text": [
            "/usr/local/lib/python3.10/dist-packages/sklearn/base.py:439: UserWarning: X does not have valid feature names, but KNeighborsClassifier was fitted with feature names\n",
            "  warnings.warn(\n"
          ]
        }
      ]
    },
    {
      "cell_type": "code",
      "source": [
        "from sklearn.model_selection import cross_val_score\n",
        "\n",
        "# Define a list of possible k values\n",
        "k_values = [1, 3, 5, 7, 9, 11, 13, 15]\n",
        "\n",
        "# Calculate cross-validation scores for each k value\n",
        "cv_scores = []\n",
        "for k in k_values:\n",
        "  knn_model = KNeighborsClassifier(n_neighbors=k)\n",
        "  scores = cross_val_score(knn_model, X_train, y_train, cv=5, scoring='accuracy')\n",
        "  cv_scores.append(scores.mean())\n",
        "\n",
        "# Find the k value with the highest cross-validation score\n",
        "best_k = k_values[cv_scores.index(max(cv_scores))]\n",
        "print(best_k)\n",
        "\n",
        "# Train the model with the best k value\n",
        "knn_model = KNeighborsClassifier(n_neighbors=best_k)\n",
        "knn_model.fit(X_train, y_train)\n",
        "\n",
        "# Predict using the best k value\n",
        "prediction = knn_model.predict(customer_data)\n",
        "print(\"Prediction:\", prediction)"
      ],
      "metadata": {
        "colab": {
          "base_uri": "https://localhost:8080/"
        },
        "id": "BsRwPHPdPUeT",
        "outputId": "61f920da-10dc-4058-9a31-d4bb53848e14"
      },
      "execution_count": 5,
      "outputs": [
        {
          "output_type": "stream",
          "name": "stdout",
          "text": [
            "5\n",
            "Prediction: [0]\n"
          ]
        },
        {
          "output_type": "stream",
          "name": "stderr",
          "text": [
            "/usr/local/lib/python3.10/dist-packages/sklearn/base.py:439: UserWarning: X does not have valid feature names, but KNeighborsClassifier was fitted with feature names\n",
            "  warnings.warn(\n"
          ]
        }
      ]
    },
    {
      "cell_type": "markdown",
      "source": [
        "# Confusion Matrix:\n",
        "\n",
        "## Use the best k to predict on the validation set and calculate the confusion matrix."
      ],
      "metadata": {
        "id": "lwvJyan8Pmvs"
      }
    },
    {
      "cell_type": "code",
      "source": [
        "# Fit model with best k\n",
        "knn_model_best = KNeighborsClassifier(n_neighbors=best_k)\n",
        "knn_model_best.fit(X_train, y_train)\n",
        "\n",
        "# Predict on validation set\n",
        "y_pred_valid = knn_model_best.predict(X_valid)\n",
        "\n",
        "# Confusion matrix\n",
        "conf_matrix_valid = confusion_matrix(y_valid, y_pred_valid)\n",
        "print(\"Confusion Matrix (Validation):\")\n",
        "print(conf_matrix_valid)"
      ],
      "metadata": {
        "colab": {
          "base_uri": "https://localhost:8080/"
        },
        "id": "ReoYBpJAPeAo",
        "outputId": "1f13ec6b-b1db-4552-c5cc-05976c3118ca"
      },
      "execution_count": 6,
      "outputs": [
        {
          "output_type": "stream",
          "name": "stdout",
          "text": [
            "Confusion Matrix (Validation):\n",
            "[[1742   57]\n",
            " [ 135   66]]\n"
          ]
        }
      ]
    },
    {
      "cell_type": "code",
      "source": [
        "# Repartition the data\n",
        "X_train_new, X_test, y_train_new, y_test = train_test_split(X, y, test_size=0.2, random_state=42)\n",
        "X_train, X_valid_new, y_train, y_valid_new = train_test_split(X_train_new, y_train_new, test_size=0.375, random_state=42)\n",
        "\n",
        "# Train the model with the best k\n",
        "knn_model_best.fit(X_train, y_train)\n",
        "\n",
        "# Predict on validation and test sets\n",
        "y_pred_valid_new = knn_model_best.predict(X_valid_new)\n",
        "y_pred_test = knn_model_best.predict(X_test)\n",
        "\n",
        "# Calculate confusion matrices\n",
        "conf_matrix_train = confusion_matrix(y_train, knn_model_best.predict(X_train))\n",
        "conf_matrix_valid_new = confusion_matrix(y_valid_new, y_pred_valid_new)\n",
        "conf_matrix_test = confusion_matrix(y_test, y_pred_test)\n",
        "\n",
        "# Print confusion matrices\n",
        "print(\"Confusion Matrix (Training):\")\n",
        "print(conf_matrix_train)\n",
        "print(\"Confusion Matrix (Validation):\")\n",
        "print(conf_matrix_valid_new)\n",
        "print(\"Confusion Matrix (Test):\")\n",
        "print(conf_matrix_test)\n"
      ],
      "metadata": {
        "colab": {
          "base_uri": "https://localhost:8080/"
        },
        "id": "MfwBhStKPvSD",
        "outputId": "d0a77956-6f1c-4ead-b34a-d0ed702a4f0a"
      },
      "execution_count": 7,
      "outputs": [
        {
          "output_type": "stream",
          "name": "stdout",
          "text": [
            "Confusion Matrix (Training):\n",
            "[[2236   42]\n",
            " [ 119  103]]\n",
            "Confusion Matrix (Validation):\n",
            "[[1318   29]\n",
            " [ 112   41]]\n",
            "Confusion Matrix (Test):\n",
            "[[873  22]\n",
            " [ 78  27]]\n"
          ]
        }
      ]
    },
    {
      "cell_type": "code",
      "source": [
        "import matplotlib.pyplot as plt\n",
        "import seaborn as sns\n",
        "\n",
        "# Create the confusion matrix\n",
        "cm = conf_matrix_test\n",
        "\n",
        "# Set up the plot\n",
        "fig, ax = plt.subplots(figsize=(8, 6))\n",
        "\n",
        "# Create a heatmap\n",
        "sns.heatmap(cm, annot=True, fmt=\"d\", linewidths=.5, square=True, cmap=\"Blues\")\n",
        "\n",
        "# Set labels and title\n",
        "ax.set_xlabel(\"Predicted\", fontsize=12)\n",
        "ax.set_ylabel(\"Actual\", fontsize=12)\n",
        "ax.set_title(\"Confusion Matrix (Test)\", fontsize=14)\n",
        "\n",
        "# Rotate x-axis labels\n",
        "ax.tick_params(axis=\"x\", rotation=45)\n",
        "\n",
        "# Show the plot\n",
        "plt.show()\n"
      ],
      "metadata": {
        "colab": {
          "base_uri": "https://localhost:8080/",
          "height": 571
        },
        "id": "sfjqk-JmRYzu",
        "outputId": "141a0367-cbd9-4d4b-9e53-aaf333025599"
      },
      "execution_count": 8,
      "outputs": [
        {
          "output_type": "display_data",
          "data": {
            "text/plain": [
              "<Figure size 800x600 with 2 Axes>"
            ],
            "image/png": "[encoded data removed]"
          },
          "metadata": {}
        }
      ]
    },
    {
      "cell_type": "code",
      "source": [],
      "metadata": {
        "id": "OgwJTrBHRi_2"
      },
      "execution_count": null,
      "outputs": []
    }
  ]
}